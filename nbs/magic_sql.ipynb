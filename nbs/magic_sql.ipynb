{
 "cells": [
  {
   "cell_type": "markdown",
   "metadata": {},
   "source": [
    "# Magic SQL connection"
   ]
  },
  {
   "cell_type": "code",
   "execution_count": null,
   "metadata": {},
   "outputs": [],
   "source": [
    "#|default_exp magic_sql"
   ]
  },
  {
   "cell_type": "markdown",
   "metadata": {},
   "source": [
    "Configure the SQL connection so that user can run magic commands such as `%sql` in notebook"
   ]
  },
  {
   "cell_type": "code",
   "execution_count": null,
   "metadata": {},
   "outputs": [],
   "source": [
    "#| export\n",
    "from jupyter_finance.core import SQL_ENGINE\n",
    "import os\n",
    "os.environ['DATABASE_URL']=SQL_ENGINE.replace(\"+psycopg2\", \"\")"
   ]
  },
  {
   "cell_type": "markdown",
   "metadata": {},
   "source": [
    "#### Load the magic SQL configuration\n",
    "\n",
    "```python\n",
    "from jupyter_finance.magic_sql import *\n",
    "```\n",
    "\n",
    "In a seperate cell, load the extension\n",
    "\n",
    "```python\n",
    "%load_ext sql\n",
    "%config SqlMagic.style = '_DEPRECATED_DEFAULT'\n",
    "```"
   ]
  },
  {
   "cell_type": "markdown",
   "metadata": {},
   "source": [
    "#### Run SQL query\n",
    "\n",
    "```sql\n",
    "%sql select * from accounts;\n",
    "```\n",
    "\n",
    "Run multiline SQL query\n",
    "\n",
    "```sql\n",
    "%%sql\n",
    "SELECT *\n",
    "FROM public.budget_batch bb\n",
    "WHERE bb.end_date = (\n",
    "    SELECT MAX(end_date)\n",
    "    FROM public.budget_batch bb_sub\n",
    "    WHERE bb_sub.budget_id = bb.budget_id\n",
    ");\n",
    "```\n"
   ]
  },
  {
   "cell_type": "markdown",
   "metadata": {},
   "source": []
  }
 ],
 "metadata": {},
 "nbformat": 4,
 "nbformat_minor": 2
}
