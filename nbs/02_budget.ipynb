{
 "cells": [
  {
   "cell_type": "code",
   "execution_count": null,
   "metadata": {},
   "outputs": [],
   "source": [
    "#|default_exp budget"
   ]
  },
  {
   "cell_type": "markdown",
   "metadata": {},
   "source": [
    "# 02_Budget"
   ]
  },
  {
   "cell_type": "markdown",
   "metadata": {},
   "source": [
    "* Budgets created\n",
    "* Budget rules are assumed and mappings are automatically applied to transactions \n",
    "* Budget mappings have to be verified"
   ]
  },
  {
   "cell_type": "code",
   "execution_count": null,
   "metadata": {},
   "outputs": [],
   "source": [
    "#| hide\n",
    "from jupyter_finance.core import *\n"
   ]
  },
  {
   "cell_type": "code",
   "execution_count": null,
   "metadata": {},
   "outputs": [],
   "source": [
    "insert_new_budget('test1', 't324234', 100)\n",
    "insert_new_budget('test2', 'weqwqrqefw', 100)\n",
    "insert_new_budget('test3', 'test', 100)\n",
    "insert_new_budget('test4', 't324234', 13400)\n",
    "insert_new_budget('test5', 'weqwqrqefw', 100)\n",
    "insert_new_budget('test6', 'test', 100)"
   ]
  },
  {
   "cell_type": "code",
   "execution_count": null,
   "metadata": {},
   "outputs": [],
   "source": [
    "display(get_all_active_budgets())"
   ]
  }
 ],
 "metadata": {
  "kernelspec": {
   "display_name": "python3",
   "language": "python",
   "name": "python3"
  }
 },
 "nbformat": 4,
 "nbformat_minor": 2
}
