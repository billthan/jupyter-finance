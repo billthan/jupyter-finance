{
 "cells": [
  {
   "cell_type": "markdown",
   "metadata": {},
   "source": [
    "# Configuration Script"
   ]
  },
  {
   "cell_type": "code",
   "execution_count": null,
   "metadata": {},
   "outputs": [],
   "source": [
    "from jupyter_finance.core import *\n",
    "import os"
   ]
  },
  {
   "cell_type": "code",
   "execution_count": null,
   "metadata": {},
   "outputs": [],
   "source": [
    "about()"
   ]
  },
  {
   "cell_type": "markdown",
   "metadata": {},
   "source": [
    "### 1. Add New Accounts\n",
    "\n",
    "1. Verify with Plaid (and bank providers) via Link provided (get a link_token) \n",
    "3. Grab 'Public Access Token' and save to local database (to be used for next time)\n",
    "4. Retrieve every public access token in our database and query transaction data\n",
    "\n",
    "Refer to [Core APIs (Authentication)](core.html#authentication) and [Official Plaid Documentation](https://plaid.com/docs/auth/) for detailed steps on how to your data is queried.\n",
    "\n",
    "Refer to [Database Encryption]"
   ]
  },
  {
   "cell_type": "code",
   "execution_count": null,
   "metadata": {},
   "outputs": [],
   "source": [
    "email = os.getenv(\"USER_EMAIL\", \"default@email.com\")\n",
    "phone = os.getenv(\"USER_PHONE\", \"+1 000 0000000\")\n"
   ]
  },
  {
   "cell_type": "markdown",
   "metadata": {},
   "source": [
    "Verify identity of Client Application and get a Link token"
   ]
  },
  {
   "cell_type": "code",
   "execution_count": null,
   "metadata": {},
   "outputs": [],
   "source": [
    "link_token = generate_link_token(email, phone)"
   ]
  },
  {
   "cell_type": "markdown",
   "metadata": {},
   "source": [
    "We grab 'Public Access Token' and save to local database"
   ]
  },
  {
   "cell_type": "code",
   "execution_count": null,
   "metadata": {},
   "outputs": [],
   "source": [
    "get_and_save_public_token(link_token, email, phone)"
   ]
  },
  {
   "cell_type": "markdown",
   "metadata": {},
   "source": [
    "Retrieve every public access token in our database "
   ]
  },
  {
   "cell_type": "code",
   "execution_count": null,
   "metadata": {},
   "outputs": [],
   "source": [
    "access_tokens = get_stored_public_access_tokens()\n",
    "get_and_save_all_account_transactions(first_time=True)"
   ]
  },
  {
   "cell_type": "markdown",
   "metadata": {},
   "source": [
    "### 2. Budgetting\n",
    "\n",
    "For more info on budgets, refer to [Budget Flows](docs_budget.html)"
   ]
  },
  {
   "cell_type": "code",
   "execution_count": null,
   "metadata": {},
   "outputs": [],
   "source": [
    "insert_new_budget(name=\"Budget #3\", description=\"Da Bois\", limit=420.69, cadence=\"monthly\")\n",
    "insert_new_budget(name=\"Budget #4\", description=\"Eating\", limit=10000000, cadence=\"biweekly\",date_of_week=\"sat\")"
   ]
  },
  {
   "cell_type": "markdown",
   "metadata": {},
   "source": [
    "View active budgets"
   ]
  },
  {
   "cell_type": "code",
   "execution_count": null,
   "metadata": {},
   "outputs": [],
   "source": [
    "get_all_active_budgets()"
   ]
  }
 ],
 "metadata": {
  "kernelspec": {
   "display_name": "python3",
   "language": "python",
   "name": "python3"
  }
 },
 "nbformat": 4,
 "nbformat_minor": 2
}
