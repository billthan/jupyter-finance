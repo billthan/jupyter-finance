{
 "cells": [
  {
   "cell_type": "markdown",
   "metadata": {},
   "source": [
    "# Security"
   ]
  },
  {
   "cell_type": "markdown",
   "metadata": {},
   "source": [
    "### Environmental Variables\n",
    "\n",
    "| Component              | Variable Name                 | Default                                      | Description                                                                          |\n",
    "|------------------------|-------------------------------|--------------------------------------------|--------------------------------------------------------------------------------------|\n",
    "| **PostgreSQL**          | POSTGRES_USER                 | admin                                      | Username for PostgreSQL database.                                                   |\n",
    "|                        | POSTGRES_PASSWORD             | admin                                      | Password for PostgreSQL database.                                                   |\n",
    "|                        | POSTGRES_ENCRYPTION_KEY       | your-encryption-key                       | Encryption key for securing sensitive data in PostgreSQL.                           |\n",
    "| **PgAdmin4**            | PGADMIN_DEFAULT_EMAIL         | admin@admin.com                            | Default email for logging into PgAdmin4.                                             |\n",
    "|                        | PGADMIN_DEFAULT_PASSWORD      | admin                                      | Default password for logging into PgAdmin4.                                          |\n",
    "| **JupyterLab**          | JUPYTER_LAB_TOKEN             | my-token                                   | Token for authenticating access to JupyterLab.                                       |\n",
    "| **Plaid API**           | PLAID_CLIENT_ID               | clientid                                   | Client ID provided by Plaid for API access.                                          |\n",
    "|                        | PLAID_SECRET                  | secret                                     | Secret key provided by Plaid for API access.                                         |\n",
    "|                        | PLAID_ENV                     | sandbox                                 | Environment for Plaid API (use 'sandbox' for testing or 'production' for real data). |\n",
    "|                        | PLAID_PRODUCTS                | transactions                               | List of Plaid products to be used, such as 'auth' and 'transactions'.                |\n",
    "|                        | PLAID_COUNTRY_CODES           | US,CA                                      | List of country codes to support for Plaid integration.                              |\n",
    "|                        | PLAID_REDIRECT_URI            |                                            | Redirect URI for handling Plaid API responses (optional).                           |\n"
   ]
  },
  {
   "cell_type": "markdown",
   "metadata": {},
   "source": [
    "### Querying APIs\n",
    "\n",
    "APIs calls are made over HTTPs using standard python requests library to Plaid (see [Official Plaid Documentation](https://plaid.com/docs/auth/))\n",
    "\n",
    "These calls are facilitated through [Core APIs (Authentication)](core.html#authentication)"
   ]
  },
  {
   "cell_type": "markdown",
   "metadata": {},
   "source": [
    "### Token Storage\n",
    "\n",
    "Intermediary link tokens are kept in python kernel memory. These get destroyed when you restart the kernel.\n",
    "\n",
    "Public Access tokens (which grant access to query your accounts) are encrypted at rest using PostgreSQL's [pgcrypto functions](https://www.postgresql.org/docs/current/pgcrypto.html) against the `POSTGRES_ENCRYPTION_KEY` set at Docker build time."
   ]
  }
 ],
 "metadata": {},
 "nbformat": 4,
 "nbformat_minor": 2
}
