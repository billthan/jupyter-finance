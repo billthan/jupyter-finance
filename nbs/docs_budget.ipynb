{
 "cells": [
  {
   "cell_type": "markdown",
   "metadata": {},
   "source": [
    "# Budget Flows"
   ]
  },
  {
   "cell_type": "markdown",
   "metadata": {},
   "source": [
    "```{mermaid}\n",
    "graph TD\n",
    "    Start((Start Script)) -->|Pull Transactions and Balances| PullData[\"Pull Transactions and Balances\"]\n",
    "    PullData --> CheckCadence[\"Check Refresh Cadence\"]\n",
    "    CheckCadence -->|Budget Reset Date Reached| CreateBatch[\"Create New Budget Batch\"]\n",
    "    CheckCadence -->|No Action Required| AutoAssociate[\"Automatically Associate Transactions\"]\n",
    "    CreateBatch -->|Insert New Batch into DB| UpdateDB[\"Update Database with New Batch\"]\n",
    "    UpdateDB -->|Associate Transactions with Batches| AutoAssociate\n",
    "    AutoAssociate --> End((End Script))\n",
    "    AutoAssociate -->|Optional User Review| UserIntervention[\"Allow User to Review Associations\"]\n",
    "    UserIntervention -->|Set Verified Status| VerifyTransaction[\"User Sets Verified Status\"]\n",
    "    VerifyTransaction --> End((End Script))\n",
    "\n",
    "    %% Descriptions\n",
    "    Start((Start Script))\n",
    "    PullData[\"Fetch transaction and balance data\"]\n",
    "    CheckCadence[\"Evaluate if today is the reset date for budget batch\"]\n",
    "    CreateBatch[\"If condition met, create a new budget batch\"]\n",
    "    UpdateDB[\"Insert the newly created batch into the database\"]\n",
    "    AutoAssociate[\"Automatically associate transactions with budget batches using predefined rules\"]\n",
    "    UserIntervention[\"Provide the user with the ability to review and modify associations optionally after automation\"]\n",
    "    VerifyTransaction[\"User must set the 'verified' status of each transaction\"]\n",
    "    End((End Script))\n",
    "\n",
    "\n",
    "```"
   ]
  }
 ],
 "metadata": {
  "kernelspec": {
   "display_name": "python3",
   "language": "python",
   "name": "python3"
  }
 },
 "nbformat": 4,
 "nbformat_minor": 2
}
